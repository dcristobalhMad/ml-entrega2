{
 "cells": [
  {
   "attachments": {},
   "cell_type": "markdown",
   "metadata": {},
   "source": [
    "En este ejercicio, el alumno tendrá que plantear y resolver un problema utilizando aprendizaje\n",
    "automático. Se tendrán que llevar a cabo todos los pasos necesarios para la resolución del\n",
    "problema: planteamiento, diseño, adquisición de los datos, análisis, entrenamiento de\n",
    "algoritmos, evaluación, discusión de resultados, etc. Todo este proceso se desarrollará en un\n",
    "cuaderno de Jupyter que conformará la entrega final.\n",
    "El problema planteado podrá ser inventado o real, y puede estar basado en un problema de\n",
    "negocio, un artículo científico, una competición, etc. Existen únicamente dos requisitos en\n",
    "cuanto al caso de uso:\n",
    "1. Tiene que utilizarse un conjunto de datos para su resolución.\n",
    "2. La solución debe estar basada en aprendizaje automático, es decir, se debe haber\n",
    "entrenado al menos un algoritmo."
   ]
  },
  {
   "cell_type": "code",
   "execution_count": 1,
   "metadata": {},
   "outputs": [],
   "source": [
    "import pandas as pd \n",
    "import numpy as np\n",
    "import matplotlib.pyplot as plt\n",
    "import sklearn.preprocessing as prep\n",
    "from sklearn.metrics import precision_score, recall_score, confusion_matrix, mean_absolute_error, mean_absolute_percentage_error, r2_score, accuracy_score, mean_squared_error\n",
    "from sklearn.svm import SVC\n",
    "from sklearn.model_selection import GridSearchCV\n",
    "from sklearn import utils\n",
    "from sklearn.svm import SVR"
   ]
  },
  {
   "cell_type": "code",
   "execution_count": 2,
   "metadata": {},
   "outputs": [
    {
     "name": "stdout",
     "output_type": "stream",
     "text": [
      "Hello world!\n"
     ]
    }
   ],
   "source": [
    "print(\"Hello world!\")"
   ]
  }
 ],
 "metadata": {
  "kernelspec": {
   "display_name": "Python 3",
   "language": "python",
   "name": "python3"
  },
  "language_info": {
   "codemirror_mode": {
    "name": "ipython",
    "version": 3
   },
   "file_extension": ".py",
   "mimetype": "text/x-python",
   "name": "python",
   "nbconvert_exporter": "python",
   "pygments_lexer": "ipython3",
   "version": "3.10.6"
  },
  "vscode": {
   "interpreter": {
    "hash": "7d6993cb2f9ce9a59d5d7380609d9cb5192a9dedd2735a011418ad9e827eb538"
   }
  }
 },
 "nbformat": 4,
 "nbformat_minor": 2
}