{
 "cells": [
  {
   "attachments": {},
   "cell_type": "markdown",
   "metadata": {},
   "source": [
    "En este ejercicio, el alumno tendrá que plantear y resolver un problema utilizando aprendizaje\n",
    "automático. Se tendrán que llevar a cabo todos los pasos necesarios para la resolución del\n",
    "problema: planteamiento, diseño, adquisición de los datos, análisis, entrenamiento de\n",
    "algoritmos, evaluación, discusión de resultados, etc. Todo este proceso se desarrollará en un\n",
    "cuaderno de Jupyter que conformará la entrega final.\n",
    "El problema planteado podrá ser inventado o real, y puede estar basado en un problema de\n",
    "negocio, un artículo científico, una competición, etc. Existen únicamente dos requisitos en\n",
    "cuanto al caso de uso:\n",
    "1. Tiene que utilizarse un conjunto de datos para su resolución.\n",
    "2. La solución debe estar basada en aprendizaje automático, es decir, se debe haber\n",
    "entrenado al menos un algoritmo."
   ]
  }
 ],
 "metadata": {
  "language_info": {
   "name": "python"
  },
  "orig_nbformat": 4
 },
 "nbformat": 4,
 "nbformat_minor": 2
}
