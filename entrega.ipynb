{
 "cells": [
  {
   "cell_type": "markdown",
   "metadata": {},
   "source": [
    "En este ejercicio, el alumno tendrá que plantear y resolver un problema utilizando aprendizaje\n",
    "automático. Se tendrán que llevar a cabo todos los pasos necesarios para la resolución del\n",
    "problema: planteamiento, diseño, adquisición de los datos, análisis, entrenamiento de\n",
    "algoritmos, evaluación, discusión de resultados, etc. Todo este proceso se desarrollará en un\n",
    "cuaderno de Jupyter que conformará la entrega final.\n",
    "El problema planteado podrá ser inventado o real, y puede estar basado en un problema de\n",
    "negocio, un artículo científico, una competición, etc. Existen únicamente dos requisitos en\n",
    "cuanto al caso de uso:\n",
    "1. Tiene que utilizarse un conjunto de datos para su resolución.\n",
    "2. La solución debe estar basada en aprendizaje automático, es decir, se debe haber\n",
    "entrenado al menos un algoritmo."
   ]
  },
  {
   "cell_type": "markdown",
   "metadata": {},
   "source": [
    "![nba-logo](images/nba-logo.png)"
   ]
  },
  {
   "cell_type": "code",
   "execution_count": 65,
   "metadata": {},
   "outputs": [],
   "source": [
    "import pandas as pd \n",
    "import numpy as np\n",
    "from IPython.display import display\n",
    "import zipfile as zp\n",
    "import matplotlib.pyplot as plt\n",
    "import sklearn.preprocessing as prep\n",
    "from sklearn.metrics import precision_score, recall_score, confusion_matrix, mean_absolute_error, mean_absolute_percentage_error, r2_score, accuracy_score, mean_squared_error"
   ]
  },
  {
   "cell_type": "markdown",
   "metadata": {},
   "source": [
    "Carga de los dataframes"
   ]
  },
  {
   "cell_type": "code",
   "execution_count": 66,
   "metadata": {},
   "outputs": [
    {
     "ename": "KeyError",
     "evalue": "\"There is no item named 'dataframes/games.csv' in the archive\"",
     "output_type": "error",
     "traceback": [
      "\u001b[0;31m---------------------------------------------------------------------------\u001b[0m",
      "\u001b[0;31mKeyError\u001b[0m                                  Traceback (most recent call last)",
      "Cell \u001b[0;32mIn [66], line 2\u001b[0m\n\u001b[1;32m      1\u001b[0m zf \u001b[38;5;241m=\u001b[39m zp\u001b[38;5;241m.\u001b[39mZipFile(\u001b[38;5;124m'\u001b[39m\u001b[38;5;124mdataframes/nba.zip\u001b[39m\u001b[38;5;124m'\u001b[39m)\n\u001b[0;32m----> 2\u001b[0m df_games \u001b[38;5;241m=\u001b[39m pd\u001b[38;5;241m.\u001b[39mread_csv(\u001b[43mzf\u001b[49m\u001b[38;5;241;43m.\u001b[39;49m\u001b[43mopen\u001b[49m\u001b[43m(\u001b[49m\u001b[38;5;124;43m'\u001b[39;49m\u001b[38;5;124;43mdataframes/games.csv\u001b[39;49m\u001b[38;5;124;43m'\u001b[39;49m\u001b[43m)\u001b[49m)\n\u001b[1;32m      3\u001b[0m df_games_details \u001b[38;5;241m=\u001b[39m pd\u001b[38;5;241m.\u001b[39mread_csv(zf\u001b[38;5;241m.\u001b[39mopen(\u001b[38;5;124m'\u001b[39m\u001b[38;5;124mdataframes/games_details.csv\u001b[39m\u001b[38;5;124m'\u001b[39m, low_memory\u001b[38;5;241m=\u001b[39m\u001b[38;5;28;01mFalse\u001b[39;00m))\n\u001b[1;32m      4\u001b[0m df_players \u001b[38;5;241m=\u001b[39m pd\u001b[38;5;241m.\u001b[39mread_csv(zf\u001b[38;5;241m.\u001b[39mopen(\u001b[38;5;124m'\u001b[39m\u001b[38;5;124mdataframes/players.csv\u001b[39m\u001b[38;5;124m'\u001b[39m))\n",
      "File \u001b[0;32m/home/linuxbrew/.linuxbrew/opt/python@3.10/lib/python3.10/zipfile.py:1514\u001b[0m, in \u001b[0;36mZipFile.open\u001b[0;34m(self, name, mode, pwd, force_zip64)\u001b[0m\n\u001b[1;32m   1511\u001b[0m     zinfo\u001b[38;5;241m.\u001b[39m_compresslevel \u001b[38;5;241m=\u001b[39m \u001b[38;5;28mself\u001b[39m\u001b[38;5;241m.\u001b[39mcompresslevel\n\u001b[1;32m   1512\u001b[0m \u001b[38;5;28;01melse\u001b[39;00m:\n\u001b[1;32m   1513\u001b[0m     \u001b[38;5;66;03m# Get info object for name\u001b[39;00m\n\u001b[0;32m-> 1514\u001b[0m     zinfo \u001b[38;5;241m=\u001b[39m \u001b[38;5;28;43mself\u001b[39;49m\u001b[38;5;241;43m.\u001b[39;49m\u001b[43mgetinfo\u001b[49m\u001b[43m(\u001b[49m\u001b[43mname\u001b[49m\u001b[43m)\u001b[49m\n\u001b[1;32m   1516\u001b[0m \u001b[38;5;28;01mif\u001b[39;00m mode \u001b[38;5;241m==\u001b[39m \u001b[38;5;124m'\u001b[39m\u001b[38;5;124mw\u001b[39m\u001b[38;5;124m'\u001b[39m:\n\u001b[1;32m   1517\u001b[0m     \u001b[38;5;28;01mreturn\u001b[39;00m \u001b[38;5;28mself\u001b[39m\u001b[38;5;241m.\u001b[39m_open_to_write(zinfo, force_zip64\u001b[38;5;241m=\u001b[39mforce_zip64)\n",
      "File \u001b[0;32m/home/linuxbrew/.linuxbrew/opt/python@3.10/lib/python3.10/zipfile.py:1441\u001b[0m, in \u001b[0;36mZipFile.getinfo\u001b[0;34m(self, name)\u001b[0m\n\u001b[1;32m   1439\u001b[0m info \u001b[38;5;241m=\u001b[39m \u001b[38;5;28mself\u001b[39m\u001b[38;5;241m.\u001b[39mNameToInfo\u001b[38;5;241m.\u001b[39mget(name)\n\u001b[1;32m   1440\u001b[0m \u001b[38;5;28;01mif\u001b[39;00m info \u001b[38;5;129;01mis\u001b[39;00m \u001b[38;5;28;01mNone\u001b[39;00m:\n\u001b[0;32m-> 1441\u001b[0m     \u001b[38;5;28;01mraise\u001b[39;00m \u001b[38;5;167;01mKeyError\u001b[39;00m(\n\u001b[1;32m   1442\u001b[0m         \u001b[38;5;124m'\u001b[39m\u001b[38;5;124mThere is no item named \u001b[39m\u001b[38;5;132;01m%r\u001b[39;00m\u001b[38;5;124m in the archive\u001b[39m\u001b[38;5;124m'\u001b[39m \u001b[38;5;241m%\u001b[39m name)\n\u001b[1;32m   1444\u001b[0m \u001b[38;5;28;01mreturn\u001b[39;00m info\n",
      "\u001b[0;31mKeyError\u001b[0m: \"There is no item named 'dataframes/games.csv' in the archive\""
     ]
    }
   ],
   "source": [
    "zf = zp.ZipFile('dataframes/nba.zip')\n",
    "df_games = pd.read_csv(zf.open('games.csv'))\n",
    "df_games_details = pd.read_csv(zf.open('games_details.csv', low_memory=False))\n",
    "df_players = pd.read_csv(zf.open('players.csv'))\n",
    "df_ranking = pd.read_csv(zf.open('ranking.csv'))\n",
    "df_teams = pd.read_csv(zf.open('dataframes/teams.csv'))"
   ]
  },
  {
   "cell_type": "markdown",
   "metadata": {},
   "source": [
    "Muestra varias filas de cada dataframe para realizar un primer analisis"
   ]
  },
  {
   "cell_type": "code",
   "execution_count": null,
   "metadata": {},
   "outputs": [],
   "source": [
    "print(\"--------- PARTIDOS ----------\")\n",
    "print(\"-----------------------------\")\n",
    "display(df_games.head())\n",
    "print(\"--------- DETALLES PARTIDOS ----------\")\n",
    "print(\"--------------------------------------\")\n",
    "display(df_games_details.head())\n",
    "print(\"--------- JUGADORES ----------\")\n",
    "print(\"------------------------------\")\n",
    "display(df_players.head())\n",
    "print(\"--------- RANKING LIGA ----------\")\n",
    "print(\"---------------------------------\")\n",
    "display(df_ranking.head())\n",
    "print(\"--------- EQUIPOS ----------\")\n",
    "print(\"----------------------------\")\n",
    "display(df_teams.head())"
   ]
  },
  {
   "cell_type": "markdown",
   "metadata": {},
   "source": [
    "Muestra filas y columnas de cada dataframe"
   ]
  },
  {
   "cell_type": "code",
   "execution_count": null,
   "metadata": {},
   "outputs": [],
   "source": [
    "print(\"--------- PARTIDOS ----------\")\n",
    "print(\"-----------------------------\")\n",
    "display(df_games.shape)\n",
    "print(\"--------- DETALLES PARTIDOS ----------\")\n",
    "print(\"--------------------------------------\")\n",
    "display(df_games_details.shape)\n",
    "print(\"--------- JUGADORES ----------\")\n",
    "print(\"------------------------------\")\n",
    "display(df_players.shape)\n",
    "print(\"--------- RANKING LIGA ----------\")\n",
    "print(\"---------------------------------\")\n",
    "display(df_ranking.shape)\n",
    "print(\"--------- EQUIPOS ----------\")\n",
    "print(\"----------------------------\")\n",
    "display(df_teams.shape)"
   ]
  }
 ],
 "metadata": {
  "kernelspec": {
   "display_name": "Python 3 (ipykernel)",
   "language": "python",
   "name": "python3"
  },
  "language_info": {
   "codemirror_mode": {
    "name": "ipython",
    "version": 3
   },
   "file_extension": ".py",
   "mimetype": "text/x-python",
   "name": "python",
   "nbconvert_exporter": "python",
   "pygments_lexer": "ipython3",
   "version": "3.10.6"
  },
  "vscode": {
   "interpreter": {
    "hash": "7d6993cb2f9ce9a59d5d7380609d9cb5192a9dedd2735a011418ad9e827eb538"
   }
  }
 },
 "nbformat": 4,
 "nbformat_minor": 2
}
